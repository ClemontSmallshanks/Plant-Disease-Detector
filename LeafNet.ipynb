{
 "cells": [
  {
   "cell_type": "code",
   "execution_count": 1,
   "id": "cf71feae",
   "metadata": {},
   "outputs": [
    {
     "name": "stdout",
     "output_type": "stream",
     "text": [
      "Using device: NVIDIA GeForce RTX 3050 Laptop GPU\n"
     ]
    }
   ],
   "source": [
    "import torch\n",
    "\n",
    "# Force GPU since you confirmed it's available\n",
    "device = torch.device(\"cuda\")\n",
    "print(\"Using device:\", torch.cuda.get_device_name(0))"
   ]
  },
  {
   "cell_type": "code",
   "execution_count": 2,
   "id": "70b4a152",
   "metadata": {},
   "outputs": [],
   "source": [
    "import os, glob, random\n",
    "import pandas as pd\n",
    "from sklearn.model_selection import train_test_split\n",
    "from PIL import Image\n",
    "import torch\n",
    "from torch.utils.data import Dataset, DataLoader\n",
    "from torchvision import transforms\n",
    "import numpy as np\n",
    "from tqdm import tqdm"
   ]
  },
  {
   "cell_type": "code",
   "execution_count": 3,
   "id": "87f28a43",
   "metadata": {},
   "outputs": [],
   "source": [
    "def make_stratified_splits(root_dir, out_dir, test_size=0.10, val_size=0.10, seed=42):\n",
    "    os.makedirs(out_dir, exist_ok=True)\n",
    "    items, labels= [], []\n",
    "    classes= sorted([d for d in os.listdir(root_dir) if os.path.isdir(os.path.join(root_dir, d))])\n",
    "    for cls in classes:\n",
    "        pattern= os.path.join(root_dir, cls, '*')\n",
    "        for p in glob.glob(pattern):\n",
    "            if p.lower().endswith(('.jpg', '.png', '.jpeg')):\n",
    "                items.append(p)\n",
    "                labels.append(cls)\n",
    "    df=pd.DataFrame({'path': items , 'label': labels})\n",
    "    temp_size= test_size+val_size\n",
    "    train_df, temp_df= train_test_split(df, test_size= temp_size, stratify= df['label'], random_state=seed)\n",
    "    test_rel=test_size/temp_size\n",
    "    val_df, test_df= train_test_split(temp_df, test_size=test_rel, stratify= temp_df['label'], random_state=seed)\n",
    "    train_df.to_csv(os.path.join(out_dir, 'train.csv'), index=False)\n",
    "    val_df.to_csv(os.path.join(out_dir, 'val.csv'), index=False)\n",
    "    test_df.to_csv(os.path.join(out_dir, 'test.csv'), index=False)\n",
    "    print(f\"Splits saved to {out_dir} (train/val/test sizes: {len(train_df)}/{len(val_df)}/{len(test_df)})\")\n",
    "    return sorted(list(df['label'].unique()))"
   ]
  },
  {
   "cell_type": "code",
   "execution_count": 4,
   "id": "0acbe909",
   "metadata": {},
   "outputs": [],
   "source": [
    "class PlantDataset(Dataset):\n",
    "    def __init__(self, csv_file, class_to_idx=None, transform=None):\n",
    "        self.df=pd.read_csv(csv_file)\n",
    "        self.paths=self.df['path'].tolist()\n",
    "        self.labels=self.df['label'].tolist()\n",
    "        if class_to_idx is None:\n",
    "            cls_unique= sorted(list(set(self.labels)))\n",
    "            self.class_to_idx = {c:i for i,c in enumerate(cls_unique)}\n",
    "        else:\n",
    "            self.class_to_idx= class_to_idx\n",
    "        self.targets= [self.class_to_idx[l] for l in self.labels]\n",
    "        self.transform= transform\n",
    "\n",
    "    def __len__(self):\n",
    "        return len(self.paths)\n",
    "\n",
    "\n",
    "    def __getitem__(self, idx):\n",
    "        img= Image.open(self.paths[idx]).convert('RGB')\n",
    "        if self.transform:\n",
    "            img= self.transform(img)\n",
    "        label= self.targets[idx]\n",
    "        return img, label"
   ]
  },
  {
   "cell_type": "code",
   "execution_count": 5,
   "id": "7b538f39",
   "metadata": {},
   "outputs": [
    {
     "name": "stdout",
     "output_type": "stream",
     "text": [
      "Splits saved to splits (train/val/test sizes: 16510/2064/2064)\n",
      "Done. Classes: ['Pepper__bell___Bacterial_spot', 'Pepper__bell___healthy', 'Potato___Early_blight', 'Potato___Late_blight', 'Potato___healthy', 'Tomato_Bacterial_spot', 'Tomato_Early_blight', 'Tomato_Late_blight', 'Tomato_Leaf_Mold', 'Tomato_Septoria_leaf_spot', 'Tomato_Spider_mites_Two_spotted_spider_mite', 'Tomato__Target_Spot', 'Tomato__Tomato_YellowLeaf__Curl_Virus', 'Tomato__Tomato_mosaic_virus', 'Tomato_healthy']\n"
     ]
    }
   ],
   "source": [
    "#transform\n",
    "train_tf= transforms.Compose([\n",
    "    transforms.RandomResizedCrop(224, scale=(0.8,1.0)),\n",
    "    transforms.RandomRotation(20),\n",
    "    transforms.RandomHorizontalFlip(),\n",
    "    transforms.RandomVerticalFlip(),\n",
    "    transforms.ColorJitter(brightness=0.2, contrast=0.2, saturation=0.1),\n",
    "    transforms.ToTensor(),\n",
    "    transforms.Normalize(mean=[0.485,0.456,0.406], std=[0.229,0.224,0.225])\n",
    "])\n",
    "\n",
    "val_tf= transforms.Compose([\n",
    "    transforms.Resize(256),\n",
    "    transforms.CenterCrop(224),\n",
    "    transforms.ToTensor(),\n",
    "    transforms.Normalize(mean=[0.485,0.456,0.406], std=[0.229,0.224,0.225])\n",
    "])\n",
    "\n",
    "if __name__ == \"__main__\":\n",
    "    ROOT= \"C:\\\\Users\\\\warma\\\\Downloads\\\\archive\\\\PlantVillage\"\n",
    "    OUT= \"splits\"\n",
    "    classes=make_stratified_splits(ROOT, OUT)\n",
    "    class_to_idx= {c:i for i,c in enumerate(classes)}\n",
    "    train_ds = PlantDataset(os.path.join(OUT,'train.csv'), class_to_idx=class_to_idx, transform=train_tf)\n",
    "    val_ds   = PlantDataset(os.path.join(OUT,'val.csv'),   class_to_idx=class_to_idx, transform=val_tf)\n",
    "    test_ds  = PlantDataset(os.path.join(OUT,'test.csv'),  class_to_idx=class_to_idx, transform=val_tf)\n",
    "\n",
    "    train_loader = DataLoader(train_ds, batch_size=32, shuffle=True, num_workers=0, pin_memory=True)\n",
    "    val_loader   = DataLoader(val_ds, batch_size=32, shuffle=False, num_workers=0, pin_memory=True)\n",
    "    test_loader  = DataLoader(test_ds, batch_size=32, shuffle=False, num_workers=0, pin_memory=True)\n",
    "\n",
    "    print(\"Done. Classes:\", classes)\n",
    "    "
   ]
  },
  {
   "cell_type": "code",
   "execution_count": 6,
   "id": "506a17c8",
   "metadata": {},
   "outputs": [],
   "source": [
    "import torch.nn as nn\n",
    "import torch.nn.functional as F\n",
    "\n",
    "class LeafNet(nn.Module):\n",
    "    def __init__(self, num_classes=38):\n",
    "        super(LeafNet, self).__init__()\n",
    "        \n",
    "        \n",
    "        self.conv1 = nn.Conv2d(3, 32, kernel_size=3, padding=1) \n",
    "        self.bn1   = nn.BatchNorm2d(32)\n",
    "\n",
    "        self.conv2 = nn.Conv2d(32, 64, kernel_size=3, padding=1)\n",
    "        self.bn2   = nn.BatchNorm2d(64)\n",
    "\n",
    "        self.conv3 = nn.Conv2d(64, 128, kernel_size=3, padding=1)\n",
    "        self.bn3   = nn.BatchNorm2d(128)\n",
    "\n",
    "        self.conv4 = nn.Conv2d(128, 256, kernel_size=3, padding=1)\n",
    "        self.bn4   = nn.BatchNorm2d(256)\n",
    "\n",
    "        self.pool  = nn.MaxPool2d(2, 2)\n",
    "\n",
    "        self.fc1 = nn.Linear(256 * 14 * 14, 512)  \n",
    "        self.drop = nn.Dropout(0.5)\n",
    "        self.fc2 = nn.Linear(512, num_classes)\n",
    "\n",
    "    def forward(self, x):\n",
    "        \n",
    "        x = self.pool(F.relu(self.bn1(self.conv1(x))))\n",
    "        x = self.pool(F.relu(self.bn2(self.conv2(x))))\n",
    "        \n",
    "        \n",
    "        x = self.pool(F.relu(self.bn3(self.conv3(x))))\n",
    "        x = self.pool(F.relu(self.bn4(self.conv4(x))))\n",
    "\n",
    "        \n",
    "        x = x.view(x.size(0), -1)\n",
    "\n",
    "        \n",
    "        x = F.relu(self.fc1(x))\n",
    "        x = self.drop(x)\n",
    "        x = self.fc2(x)\n",
    "        return x\n"
   ]
  },
  {
   "cell_type": "code",
   "execution_count": 7,
   "id": "bb32ef95",
   "metadata": {},
   "outputs": [],
   "source": [
    "import torch.optim as optim\n",
    "device= \"cuda\" if torch.cuda.is_available() else \"cpu\"\n",
    "num_classes= len(classes)\n",
    "model = LeafNet(num_classes).to(device)\n",
    "criterion = nn.CrossEntropyLoss()\n",
    "\n",
    "optimizer= optim.AdamW(model.parameters(), lr= 1e-3, weight_decay= 1e-4)\n",
    "scheduler= optim.lr_scheduler.ReduceLROnPlateau(optimizer, mode=\"min\", patience=3, factor=0.5)\n"
   ]
  },
  {
   "cell_type": "code",
   "execution_count": 8,
   "id": "19ee3371",
   "metadata": {},
   "outputs": [],
   "source": [
    "from tqdm import tqdm\n",
    "def train_model(model, train_dl, val_dl, criterion, optimizer, scheduler, epochs=20):\n",
    "    device = torch.device(\"cuda\")\n",
    "    model = model.to(device)\n",
    "    best_val_acc= 0.0\n",
    "    history= {\"train_loss\": [], \"val_loss\": [], \"train_acc\": [], \"val_acc\": []}\n",
    "    for epoch in range(epochs):\n",
    "        model.train()\n",
    "        train_loss, correct, total= 0.0, 0, 0\n",
    "        \n",
    "        for xb, yb in tqdm(train_dl, desc=f\"Epoch {epoch+1}/{epochs} [Train]\"):\n",
    "            xb, yb = xb.to(device, non_blocking=True), yb.to(device, non_blocking=True)\n",
    "            optimizer.zero_grad()\n",
    "\n",
    "            outputs= model(xb)\n",
    "            loss= criterion(outputs, yb)\n",
    "            loss.backward()\n",
    "            optimizer.step()\n",
    "            train_loss += loss.item()*xb.size(0)\n",
    "            _, preds= torch.max(outputs, 1)\n",
    "            correct += (preds==yb).sum().item()\n",
    "            total += yb.size(0)\n",
    "\n",
    "        train_loss /= total\n",
    "        train_acc= correct/total\n",
    "\n",
    "\n",
    "\n",
    "        model.eval()\n",
    "        val_loss, correct, total = 0.0, 0, 0\n",
    "        with torch.no_grad():\n",
    "            for xb, yb in tqdm(val_dl, desc=f\"Epoch {epoch+1}/{epochs} [Val]\"):\n",
    "                xb, yb = xb.to(device), yb.to(device)\n",
    "                outputs = model(xb)\n",
    "                loss = criterion(outputs, yb)\n",
    "\n",
    "                val_loss += loss.item() * xb.size(0)\n",
    "                _, preds = torch.max(outputs, 1)\n",
    "                correct += (preds == yb).sum().item()\n",
    "                total += yb.size(0)\n",
    "\n",
    "        val_loss /= total\n",
    "        val_acc = correct / total\n",
    "\n",
    "\n",
    "        print(f\"Epoch {epoch+1}/{epochs}: \"\n",
    "              f\"Train Loss={train_loss:.4f}, Train Acc={train_acc:.4f}, \"\n",
    "              f\"Val Loss={val_loss:.4f}, Val Acc={val_acc:.4f}\")\n",
    "\n",
    "        history[\"train_loss\"].append(train_loss)\n",
    "        history[\"val_loss\"].append(val_loss)\n",
    "        history[\"train_acc\"].append(train_acc)\n",
    "        history[\"val_acc\"].append(val_acc)\n",
    "\n",
    "        scheduler.step(val_loss)\n",
    "        if val_acc > best_val_acc:\n",
    "            best_val_acc= val_acc\n",
    "            torch.save(model.state_dict(), \"best_LeafNet.pth\")\n",
    "\n",
    "    return history\n"
   ]
  },
  {
   "cell_type": "code",
   "execution_count": 9,
   "id": "4630a957",
   "metadata": {},
   "outputs": [
    {
     "name": "stderr",
     "output_type": "stream",
     "text": [
      "Epoch 1/20 [Train]:   0%|          | 0/516 [00:00<?, ?it/s]"
     ]
    },
    {
     "name": "stderr",
     "output_type": "stream",
     "text": [
      "Epoch 1/20 [Train]: 100%|██████████| 516/516 [10:06<00:00,  1.18s/it]\n",
      "Epoch 1/20 [Val]: 100%|██████████| 65/65 [01:03<00:00,  1.02it/s]\n"
     ]
    },
    {
     "name": "stdout",
     "output_type": "stream",
     "text": [
      "Epoch 1/20: Train Loss=2.5083, Train Acc=0.3257, Val Loss=1.7119, Val Acc=0.4719\n"
     ]
    },
    {
     "name": "stderr",
     "output_type": "stream",
     "text": [
      "Epoch 2/20 [Train]: 100%|██████████| 516/516 [04:47<00:00,  1.80it/s]\n",
      "Epoch 2/20 [Val]: 100%|██████████| 65/65 [00:11<00:00,  5.74it/s]\n"
     ]
    },
    {
     "name": "stdout",
     "output_type": "stream",
     "text": [
      "Epoch 2/20: Train Loss=1.7220, Train Acc=0.4212, Val Loss=1.1775, Val Acc=0.5940\n"
     ]
    },
    {
     "name": "stderr",
     "output_type": "stream",
     "text": [
      "Epoch 3/20 [Train]: 100%|██████████| 516/516 [04:42<00:00,  1.83it/s]\n",
      "Epoch 3/20 [Val]: 100%|██████████| 65/65 [00:12<00:00,  5.10it/s]\n"
     ]
    },
    {
     "name": "stdout",
     "output_type": "stream",
     "text": [
      "Epoch 3/20: Train Loss=1.5373, Train Acc=0.4838, Val Loss=1.9205, Val Acc=0.5155\n"
     ]
    },
    {
     "name": "stderr",
     "output_type": "stream",
     "text": [
      "Epoch 4/20 [Train]: 100%|██████████| 516/516 [04:11<00:00,  2.05it/s]\n",
      "Epoch 4/20 [Val]: 100%|██████████| 65/65 [00:14<00:00,  4.37it/s]\n"
     ]
    },
    {
     "name": "stdout",
     "output_type": "stream",
     "text": [
      "Epoch 4/20: Train Loss=1.4276, Train Acc=0.5222, Val Loss=1.1137, Val Acc=0.6434\n"
     ]
    },
    {
     "name": "stderr",
     "output_type": "stream",
     "text": [
      "Epoch 5/20 [Train]: 100%|██████████| 516/516 [04:07<00:00,  2.09it/s]\n",
      "Epoch 5/20 [Val]: 100%|██████████| 65/65 [00:15<00:00,  4.11it/s]\n"
     ]
    },
    {
     "name": "stdout",
     "output_type": "stream",
     "text": [
      "Epoch 5/20: Train Loss=1.3451, Train Acc=0.5459, Val Loss=1.1048, Val Acc=0.6453\n"
     ]
    },
    {
     "name": "stderr",
     "output_type": "stream",
     "text": [
      "Epoch 6/20 [Train]: 100%|██████████| 516/516 [04:13<00:00,  2.03it/s]\n",
      "Epoch 6/20 [Val]: 100%|██████████| 65/65 [00:14<00:00,  4.39it/s]\n"
     ]
    },
    {
     "name": "stdout",
     "output_type": "stream",
     "text": [
      "Epoch 6/20: Train Loss=1.2723, Train Acc=0.5686, Val Loss=1.8232, Val Acc=0.6032\n"
     ]
    },
    {
     "name": "stderr",
     "output_type": "stream",
     "text": [
      "Epoch 7/20 [Train]: 100%|██████████| 516/516 [04:13<00:00,  2.03it/s]\n",
      "Epoch 7/20 [Val]: 100%|██████████| 65/65 [00:15<00:00,  4.32it/s]\n"
     ]
    },
    {
     "name": "stdout",
     "output_type": "stream",
     "text": [
      "Epoch 7/20: Train Loss=1.2186, Train Acc=0.5867, Val Loss=1.1150, Val Acc=0.7030\n"
     ]
    },
    {
     "name": "stderr",
     "output_type": "stream",
     "text": [
      "Epoch 8/20 [Train]: 100%|██████████| 516/516 [06:11<00:00,  1.39it/s]  \n",
      "Epoch 8/20 [Val]: 100%|██████████| 65/65 [00:18<00:00,  3.53it/s]\n"
     ]
    },
    {
     "name": "stdout",
     "output_type": "stream",
     "text": [
      "Epoch 8/20: Train Loss=1.1167, Train Acc=0.6202, Val Loss=0.7987, Val Acc=0.7500\n"
     ]
    },
    {
     "name": "stderr",
     "output_type": "stream",
     "text": [
      "Epoch 9/20 [Train]: 100%|██████████| 516/516 [03:38<00:00,  2.36it/s]\n",
      "Epoch 9/20 [Val]: 100%|██████████| 65/65 [00:09<00:00,  7.04it/s]\n"
     ]
    },
    {
     "name": "stdout",
     "output_type": "stream",
     "text": [
      "Epoch 9/20: Train Loss=1.0559, Train Acc=0.6419, Val Loss=0.9395, Val Acc=0.7490\n"
     ]
    },
    {
     "name": "stderr",
     "output_type": "stream",
     "text": [
      "Epoch 10/20 [Train]: 100%|██████████| 516/516 [03:36<00:00,  2.38it/s]\n",
      "Epoch 10/20 [Val]: 100%|██████████| 65/65 [00:13<00:00,  4.66it/s]\n"
     ]
    },
    {
     "name": "stdout",
     "output_type": "stream",
     "text": [
      "Epoch 10/20: Train Loss=0.9782, Train Acc=0.6643, Val Loss=0.8374, Val Acc=0.7718\n"
     ]
    },
    {
     "name": "stderr",
     "output_type": "stream",
     "text": [
      "Epoch 11/20 [Train]: 100%|██████████| 516/516 [04:33<00:00,  1.89it/s]\n",
      "Epoch 11/20 [Val]: 100%|██████████| 65/65 [00:20<00:00,  3.21it/s]\n"
     ]
    },
    {
     "name": "stdout",
     "output_type": "stream",
     "text": [
      "Epoch 11/20: Train Loss=0.9523, Train Acc=0.6790, Val Loss=1.0423, Val Acc=0.7442\n"
     ]
    },
    {
     "name": "stderr",
     "output_type": "stream",
     "text": [
      "Epoch 12/20 [Train]: 100%|██████████| 516/516 [04:36<00:00,  1.87it/s]\n",
      "Epoch 12/20 [Val]: 100%|██████████| 65/65 [00:17<00:00,  3.73it/s]\n"
     ]
    },
    {
     "name": "stdout",
     "output_type": "stream",
     "text": [
      "Epoch 12/20: Train Loss=0.8849, Train Acc=0.6979, Val Loss=1.1561, Val Acc=0.7447\n"
     ]
    },
    {
     "name": "stderr",
     "output_type": "stream",
     "text": [
      "Epoch 13/20 [Train]: 100%|██████████| 516/516 [04:51<00:00,  1.77it/s]\n",
      "Epoch 13/20 [Val]: 100%|██████████| 65/65 [00:18<00:00,  3.56it/s]\n"
     ]
    },
    {
     "name": "stdout",
     "output_type": "stream",
     "text": [
      "Epoch 13/20: Train Loss=0.7618, Train Acc=0.7358, Val Loss=0.8893, Val Acc=0.7859\n"
     ]
    },
    {
     "name": "stderr",
     "output_type": "stream",
     "text": [
      "Epoch 14/20 [Train]: 100%|██████████| 516/516 [04:47<00:00,  1.79it/s]\n",
      "Epoch 14/20 [Val]: 100%|██████████| 65/65 [00:17<00:00,  3.65it/s]\n"
     ]
    },
    {
     "name": "stdout",
     "output_type": "stream",
     "text": [
      "Epoch 14/20: Train Loss=0.7248, Train Acc=0.7538, Val Loss=0.8407, Val Acc=0.8101\n"
     ]
    },
    {
     "name": "stderr",
     "output_type": "stream",
     "text": [
      "Epoch 15/20 [Train]: 100%|██████████| 516/516 [04:46<00:00,  1.80it/s]\n",
      "Epoch 15/20 [Val]: 100%|██████████| 65/65 [00:18<00:00,  3.53it/s]\n"
     ]
    },
    {
     "name": "stdout",
     "output_type": "stream",
     "text": [
      "Epoch 15/20: Train Loss=0.6777, Train Acc=0.7641, Val Loss=1.2341, Val Acc=0.7757\n"
     ]
    },
    {
     "name": "stderr",
     "output_type": "stream",
     "text": [
      "Epoch 16/20 [Train]: 100%|██████████| 516/516 [04:29<00:00,  1.92it/s]\n",
      "Epoch 16/20 [Val]: 100%|██████████| 65/65 [00:05<00:00, 12.49it/s]\n"
     ]
    },
    {
     "name": "stdout",
     "output_type": "stream",
     "text": [
      "Epoch 16/20: Train Loss=0.6641, Train Acc=0.7726, Val Loss=1.1911, Val Acc=0.7839\n"
     ]
    },
    {
     "name": "stderr",
     "output_type": "stream",
     "text": [
      "Epoch 17/20 [Train]: 100%|██████████| 516/516 [02:09<00:00,  3.97it/s]\n",
      "Epoch 17/20 [Val]: 100%|██████████| 65/65 [00:05<00:00, 11.31it/s]\n"
     ]
    },
    {
     "name": "stdout",
     "output_type": "stream",
     "text": [
      "Epoch 17/20: Train Loss=0.6063, Train Acc=0.7912, Val Loss=0.5662, Val Acc=0.8556\n"
     ]
    },
    {
     "name": "stderr",
     "output_type": "stream",
     "text": [
      "Epoch 18/20 [Train]: 100%|██████████| 516/516 [02:09<00:00,  3.99it/s]\n",
      "Epoch 18/20 [Val]: 100%|██████████| 65/65 [00:06<00:00, 10.77it/s]\n"
     ]
    },
    {
     "name": "stdout",
     "output_type": "stream",
     "text": [
      "Epoch 18/20: Train Loss=0.5554, Train Acc=0.8059, Val Loss=0.6272, Val Acc=0.8469\n"
     ]
    },
    {
     "name": "stderr",
     "output_type": "stream",
     "text": [
      "Epoch 19/20 [Train]: 100%|██████████| 516/516 [02:13<00:00,  3.85it/s]\n",
      "Epoch 19/20 [Val]: 100%|██████████| 65/65 [00:05<00:00, 11.82it/s]\n"
     ]
    },
    {
     "name": "stdout",
     "output_type": "stream",
     "text": [
      "Epoch 19/20: Train Loss=0.5455, Train Acc=0.8084, Val Loss=0.6123, Val Acc=0.8658\n"
     ]
    },
    {
     "name": "stderr",
     "output_type": "stream",
     "text": [
      "Epoch 20/20 [Train]: 100%|██████████| 516/516 [02:18<00:00,  3.72it/s]\n",
      "Epoch 20/20 [Val]: 100%|██████████| 65/65 [00:06<00:00, 10.13it/s]\n"
     ]
    },
    {
     "name": "stdout",
     "output_type": "stream",
     "text": [
      "Epoch 20/20: Train Loss=0.5105, Train Acc=0.8223, Val Loss=0.3998, Val Acc=0.8920\n"
     ]
    }
   ],
   "source": [
    "history= train_model(model, train_loader, val_loader, criterion, optimizer, scheduler, epochs=20)"
   ]
  },
  {
   "cell_type": "code",
   "execution_count": 10,
   "id": "99540a53",
   "metadata": {},
   "outputs": [
    {
     "name": "stderr",
     "output_type": "stream",
     "text": [
      "C:\\Users\\warma\\AppData\\Local\\Temp\\ipykernel_22640\\3694550379.py:1: FutureWarning: You are using `torch.load` with `weights_only=False` (the current default value), which uses the default pickle module implicitly. It is possible to construct malicious pickle data which will execute arbitrary code during unpickling (See https://github.com/pytorch/pytorch/blob/main/SECURITY.md#untrusted-models for more details). In a future release, the default value for `weights_only` will be flipped to `True`. This limits the functions that could be executed during unpickling. Arbitrary objects will no longer be allowed to be loaded via this mode unless they are explicitly allowlisted by the user via `torch.serialization.add_safe_globals`. We recommend you start setting `weights_only=True` for any use case where you don't have full control of the loaded file. Please open an issue on GitHub for any issues related to this experimental feature.\n",
      "  model.load_state_dict(torch.load(\"best_LeafNet.pth\"))\n"
     ]
    },
    {
     "name": "stdout",
     "output_type": "stream",
     "text": [
      "Test Accuracy: 0.8871\n"
     ]
    }
   ],
   "source": [
    "\n",
    "model.load_state_dict(torch.load(\"best_LeafNet.pth\"))\n",
    "model.eval()\n",
    "\n",
    "\n",
    "correct, total = 0, 0\n",
    "with torch.no_grad():\n",
    "    for xb, yb in test_loader:\n",
    "        xb, yb = xb.to(device), yb.to(device)\n",
    "        outputs = model(xb)\n",
    "        _, preds = torch.max(outputs, 1)\n",
    "        correct += (preds == yb).sum().item()\n",
    "        total += yb.size(0)\n",
    "test_acc = correct / total\n",
    "print(f\"Test Accuracy: {test_acc:.4f}\")"
   ]
  },
  {
   "cell_type": "code",
   "execution_count": 11,
   "id": "005ae817",
   "metadata": {},
   "outputs": [],
   "source": [
    "import json\n",
    "with open(\"class_to_idx.json\", \"w\") as f:\n",
    "    json.dump(class_to_idx, f)"
   ]
  },
  {
   "cell_type": "code",
   "execution_count": null,
   "id": "8282489a",
   "metadata": {},
   "outputs": [],
   "source": []
  }
 ],
 "metadata": {
  "kernelspec": {
   "display_name": "Python 3",
   "language": "python",
   "name": "python3"
  },
  "language_info": {
   "codemirror_mode": {
    "name": "ipython",
    "version": 3
   },
   "file_extension": ".py",
   "mimetype": "text/x-python",
   "name": "python",
   "nbconvert_exporter": "python",
   "pygments_lexer": "ipython3",
   "version": "3.12.10"
  }
 },
 "nbformat": 4,
 "nbformat_minor": 5
}
