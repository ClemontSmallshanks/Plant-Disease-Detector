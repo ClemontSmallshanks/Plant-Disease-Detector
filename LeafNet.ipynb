{
 "cells": [
  {
   "cell_type": "code",
   "execution_count": 1,
   "id": "cf71feae",
   "metadata": {},
   "outputs": [
    {
     "name": "stdout",
     "output_type": "stream",
     "text": [
      "Using device: NVIDIA GeForce RTX 3050 Laptop GPU\n"
     ]
    }
   ],
   "source": [
    "import torch\n",
    "\n",
    "# Force GPU since you confirmed it's available\n",
    "device = torch.device(\"cuda\")\n",
    "print(\"Using device:\", torch.cuda.get_device_name(0))"
   ]
  },
  {
   "cell_type": "code",
   "execution_count": 2,
   "id": "70b4a152",
   "metadata": {},
   "outputs": [],
   "source": [
    "import os, glob, random\n",
    "import pandas as pd\n",
    "from sklearn.model_selection import train_test_split\n",
    "from PIL import Image\n",
    "import torch\n",
    "from torch.utils.data import Dataset, DataLoader\n",
    "from torchvision import transforms\n",
    "import numpy as np\n",
    "from tqdm import tqdm"
   ]
  },
  {
   "cell_type": "code",
   "execution_count": 3,
   "id": "87f28a43",
   "metadata": {},
   "outputs": [],
   "source": [
    "def make_stratified_splits(root_dir, out_dir, test_size=0.10, val_size=0.10, seed=42):\n",
    "    os.makedirs(out_dir, exist_ok=True)\n",
    "    items, labels= [], []\n",
    "    classes= sorted([d for d in os.listdir(root_dir) if os.path.isdir(os.path.join(root_dir, d))])\n",
    "    for cls in classes:\n",
    "        pattern= os.path.join(root_dir, cls, '*')\n",
    "        for p in glob.glob(pattern):\n",
    "            if p.lower().endswith(('.jpg', '.png', '.jpeg')):\n",
    "                items.append(p)\n",
    "                labels.append(cls)\n",
    "    df=pd.DataFrame({'path': items , 'label': labels})\n",
    "    temp_size= test_size+val_size\n",
    "    train_df, temp_df= train_test_split(df, test_size= temp_size, stratify= df['label'], random_state=seed)\n",
    "    test_rel=test_size/temp_size\n",
    "    val_df, test_df= train_test_split(temp_df, test_size=test_rel, stratify= temp_df['label'], random_state=seed)\n",
    "    train_df.to_csv(os.path.join(out_dir, 'train.csv'), index=False)\n",
    "    val_df.to_csv(os.path.join(out_dir, 'val.csv'), index=False)\n",
    "    test_df.to_csv(os.path.join(out_dir, 'test.csv'), index=False)\n",
    "    print(f\"Splits saved to {out_dir} (train/val/test sizes: {len(train_df)}/{len(val_df)}/{len(test_df)})\")\n",
    "    return sorted(list(df['label'].unique()))"
   ]
  },
  {
   "cell_type": "code",
   "execution_count": 4,
   "id": "0acbe909",
   "metadata": {},
   "outputs": [],
   "source": [
    "class PlantDataset(Dataset):\n",
    "    def __init__(self, csv_file, class_to_idx=None, transform=None):\n",
    "        self.df=pd.read_csv(csv_file)\n",
    "        self.paths=self.df['path'].tolist()\n",
    "        self.labels=self.df['label'].tolist()\n",
    "        if class_to_idx is None:\n",
    "            cls_unique= sorted(list(set(self.labels)))\n",
    "            self.class_to_idx = {c:i for i,c in enumerate(cls_unique)}\n",
    "        else:\n",
    "            self.class_to_idx= class_to_idx\n",
    "        self.targets= [self.class_to_idx[l] for l in self.labels]\n",
    "        self.transform= transform\n",
    "\n",
    "    def __len__(self):\n",
    "        return len(self.paths)\n",
    "\n",
    "\n",
    "    def __getitem__(self, idx):\n",
    "        img= Image.open(self.paths[idx]).convert('RGB')\n",
    "        if self.transform:\n",
    "            img= self.transform(img)\n",
    "        label= self.targets[idx]\n",
    "        return img, label"
   ]
  },
  {
   "cell_type": "code",
   "execution_count": 5,
   "id": "7b538f39",
   "metadata": {},
   "outputs": [
    {
     "name": "stdout",
     "output_type": "stream",
     "text": [
      "Splits saved to splits (train/val/test sizes: 16510/2064/2064)\n",
      "Done. Classes: ['Pepper__bell___Bacterial_spot', 'Pepper__bell___healthy', 'Potato___Early_blight', 'Potato___Late_blight', 'Potato___healthy', 'Tomato_Bacterial_spot', 'Tomato_Early_blight', 'Tomato_Late_blight', 'Tomato_Leaf_Mold', 'Tomato_Septoria_leaf_spot', 'Tomato_Spider_mites_Two_spotted_spider_mite', 'Tomato__Target_Spot', 'Tomato__Tomato_YellowLeaf__Curl_Virus', 'Tomato__Tomato_mosaic_virus', 'Tomato_healthy']\n"
     ]
    }
   ],
   "source": [
    "#transform\n",
    "train_tf= transforms.Compose([\n",
    "    transforms.RandomResizedCrop(224, scale=(0.8,1.0)),\n",
    "    transforms.RandomRotation(20),\n",
    "    transforms.RandomHorizontalFlip(),\n",
    "    transforms.RandomVerticalFlip(),\n",
    "    transforms.ColorJitter(brightness=0.2, contrast=0.2, saturation=0.1),\n",
    "    transforms.ToTensor(),\n",
    "    transforms.Normalize(mean=[0.485,0.456,0.406], std=[0.229,0.224,0.225])\n",
    "])\n",
    "\n",
    "val_tf= transforms.Compose([\n",
    "    transforms.Resize(256),\n",
    "    transforms.CenterCrop(224),\n",
    "    transforms.ToTensor(),\n",
    "    transforms.Normalize(mean=[0.485,0.456,0.406], std=[0.229,0.224,0.225])\n",
    "])\n",
    "\n",
    "if __name__ == \"__main__\":\n",
    "    ROOT= \"C:\\\\Users\\\\warma\\\\Downloads\\\\archive\\\\PlantVillage\"\n",
    "    OUT= \"splits\"\n",
    "    classes=make_stratified_splits(ROOT, OUT)\n",
    "    class_to_idx= {c:i for i,c in enumerate(classes)}\n",
    "    train_ds = PlantDataset(os.path.join(OUT,'train.csv'), class_to_idx=class_to_idx, transform=train_tf)\n",
    "    val_ds   = PlantDataset(os.path.join(OUT,'val.csv'),   class_to_idx=class_to_idx, transform=val_tf)\n",
    "    test_ds  = PlantDataset(os.path.join(OUT,'test.csv'),  class_to_idx=class_to_idx, transform=val_tf)\n",
    "\n",
    "    train_loader = DataLoader(train_ds, batch_size=32, shuffle=True, num_workers=0, pin_memory=True)\n",
    "    val_loader   = DataLoader(val_ds, batch_size=32, shuffle=False, num_workers=0, pin_memory=True)\n",
    "    test_loader  = DataLoader(test_ds, batch_size=32, shuffle=False, num_workers=0, pin_memory=True)\n",
    "\n",
    "    print(\"Done. Classes:\", classes)\n",
    "    "
   ]
  },
  {
   "cell_type": "code",
   "execution_count": 6,
   "id": "506a17c8",
   "metadata": {},
   "outputs": [],
   "source": [
    "import torch.nn as nn\n",
    "import torch.nn.functional as F\n",
    "\n",
    "class LeafNet(nn.Module):\n",
    "    def __init__(self, num_classes=38):\n",
    "        super(LeafNet, self).__init__()\n",
    "\n",
    "        self.conv1 = nn.Conv2d(3, 16, kernel_size=3, padding=1)\n",
    "        self.bn1   = nn.BatchNorm2d(16)\n",
    "\n",
    "        self.conv2 = nn.Conv2d(16, 32, kernel_size=3, padding=1)\n",
    "        self.bn2   = nn.BatchNorm2d(32)\n",
    "\n",
    "        self.conv3 = nn.Conv2d(32, 64, kernel_size=3, padding=1)\n",
    "        self.bn3   = nn.BatchNorm2d(64)\n",
    "\n",
    "        self.pool  = nn.MaxPool2d(2, 2)\n",
    "\n",
    "        \n",
    "        self.fc1   = nn.Linear(64 * 28 * 28, 256)\n",
    "        self.drop  = nn.Dropout(0.3)\n",
    "        self.fc2   = nn.Linear(256, num_classes)\n",
    "\n",
    "    def forward(self, x):\n",
    "        x = self.pool(F.relu(self.bn1(self.conv1(x))))\n",
    "        x = self.pool(F.relu(self.bn2(self.conv2(x))))\n",
    "        x = self.pool(F.relu(self.bn3(self.conv3(x))))\n",
    "\n",
    "        x = x.view(x.size(0), -1)\n",
    "\n",
    "        # classifier\n",
    "        x = F.relu(self.fc1(x))\n",
    "        x = self.drop(x)\n",
    "        x = self.fc2(x)\n",
    "        return x\n"
   ]
  },
  {
   "cell_type": "code",
   "execution_count": 7,
   "id": "bb32ef95",
   "metadata": {},
   "outputs": [],
   "source": [
    "import torch.optim as optim\n",
    "device= \"cuda\" if torch.cuda.is_available() else \"cpu\"\n",
    "num_classes= len(classes)\n",
    "model = LeafNet(num_classes).to(device)\n",
    "criterion = nn.CrossEntropyLoss()\n",
    "\n",
    "optimizer= optim.AdamW(model.parameters(), lr= 1e-3, weight_decay= 1e-4)\n",
    "scheduler= optim.lr_scheduler.ReduceLROnPlateau(optimizer, mode=\"min\", patience=3, factor=0.5)\n"
   ]
  },
  {
   "cell_type": "code",
   "execution_count": 8,
   "id": "19ee3371",
   "metadata": {},
   "outputs": [],
   "source": [
    "from tqdm import tqdm\n",
    "def train_model(model, train_dl, val_dl, criterion, optimizer, scheduler, epochs=20):\n",
    "    device = torch.device(\"cuda\")\n",
    "    model = model.to(device)\n",
    "    best_val_acc= 0.0\n",
    "    history= {\"train_loss\": [], \"val_loss\": [], \"train_acc\": [], \"val_acc\": []}\n",
    "    for epoch in range(epochs):\n",
    "        model.train()\n",
    "        train_loss, correct, total= 0.0, 0, 0\n",
    "        \n",
    "        for xb, yb in tqdm(train_dl, desc=f\"Epoch {epoch+1}/{epochs} [Train]\"):\n",
    "            xb, yb = xb.to(device, non_blocking=True), yb.to(device, non_blocking=True)\n",
    "            optimizer.zero_grad()\n",
    "\n",
    "            outputs= model(xb)\n",
    "            loss= criterion(outputs, yb)\n",
    "            loss.backward()\n",
    "            optimizer.step()\n",
    "            train_loss += loss.item()*xb.size(0)\n",
    "            _, preds= torch.max(outputs, 1)\n",
    "            correct += (preds==yb).sum().item()\n",
    "            total += yb.size(0)\n",
    "\n",
    "        train_loss /= total\n",
    "        train_acc= correct/total\n",
    "\n",
    "\n",
    "\n",
    "        model.eval()\n",
    "        val_loss, correct, total = 0.0, 0, 0\n",
    "        with torch.no_grad():\n",
    "            for xb, yb in tqdm(val_dl, desc=f\"Epoch {epoch+1}/{epochs} [Val]\"):\n",
    "                xb, yb = xb.to(device), yb.to(device)\n",
    "                outputs = model(xb)\n",
    "                loss = criterion(outputs, yb)\n",
    "\n",
    "                val_loss += loss.item() * xb.size(0)\n",
    "                _, preds = torch.max(outputs, 1)\n",
    "                correct += (preds == yb).sum().item()\n",
    "                total += yb.size(0)\n",
    "\n",
    "        val_loss /= total\n",
    "        val_acc = correct / total\n",
    "\n",
    "\n",
    "        print(f\"Epoch {epoch+1}/{epochs}: \"\n",
    "              f\"Train Loss={train_loss:.4f}, Train Acc={train_acc:.4f}, \"\n",
    "              f\"Val Loss={val_loss:.4f}, Val Acc={val_acc:.4f}\")\n",
    "\n",
    "        history[\"train_loss\"].append(train_loss)\n",
    "        history[\"val_loss\"].append(val_loss)\n",
    "        history[\"train_acc\"].append(train_acc)\n",
    "        history[\"val_acc\"].append(val_acc)\n",
    "\n",
    "        scheduler.step(val_loss)\n",
    "        if val_acc > best_val_acc:\n",
    "            best_val_acc= val_acc\n",
    "            torch.save(model.state_dict(), \"best_LeafNet.pth\")\n",
    "\n",
    "    return history\n"
   ]
  },
  {
   "cell_type": "code",
   "execution_count": 12,
   "id": "4630a957",
   "metadata": {},
   "outputs": [
    {
     "name": "stderr",
     "output_type": "stream",
     "text": [
      "Epoch 1/20 [Train]: 100%|██████████| 516/516 [09:05<00:00,  1.06s/it]\n",
      "Epoch 1/20 [Val]: 100%|██████████| 65/65 [00:44<00:00,  1.45it/s]\n"
     ]
    },
    {
     "name": "stdout",
     "output_type": "stream",
     "text": [
      "Epoch 1/20: Train Loss=2.5673, Train Acc=0.3052, Val Loss=1.6763, Val Acc=0.4477\n"
     ]
    },
    {
     "name": "stderr",
     "output_type": "stream",
     "text": [
      "Epoch 2/20 [Train]: 100%|██████████| 516/516 [03:07<00:00,  2.75it/s]\n",
      "Epoch 2/20 [Val]: 100%|██████████| 65/65 [00:09<00:00,  6.55it/s]\n"
     ]
    },
    {
     "name": "stdout",
     "output_type": "stream",
     "text": [
      "Epoch 2/20: Train Loss=1.7160, Train Acc=0.4277, Val Loss=1.3714, Val Acc=0.5402\n"
     ]
    },
    {
     "name": "stderr",
     "output_type": "stream",
     "text": [
      "Epoch 3/20 [Train]: 100%|██████████| 516/516 [02:55<00:00,  2.94it/s]\n",
      "Epoch 3/20 [Val]: 100%|██████████| 65/65 [00:05<00:00, 11.98it/s]\n"
     ]
    },
    {
     "name": "stdout",
     "output_type": "stream",
     "text": [
      "Epoch 3/20: Train Loss=1.5619, Train Acc=0.4617, Val Loss=1.2366, Val Acc=0.6114\n"
     ]
    },
    {
     "name": "stderr",
     "output_type": "stream",
     "text": [
      "Epoch 4/20 [Train]: 100%|██████████| 516/516 [04:55<00:00,  1.74it/s]\n",
      "Epoch 4/20 [Val]: 100%|██████████| 65/65 [00:40<00:00,  1.60it/s]\n"
     ]
    },
    {
     "name": "stdout",
     "output_type": "stream",
     "text": [
      "Epoch 4/20: Train Loss=1.4941, Train Acc=0.4909, Val Loss=1.3561, Val Acc=0.5780\n"
     ]
    },
    {
     "name": "stderr",
     "output_type": "stream",
     "text": [
      "Epoch 5/20 [Train]: 100%|██████████| 516/516 [06:40<00:00,  1.29it/s]\n",
      "Epoch 5/20 [Val]: 100%|██████████| 65/65 [00:10<00:00,  6.40it/s]\n"
     ]
    },
    {
     "name": "stdout",
     "output_type": "stream",
     "text": [
      "Epoch 5/20: Train Loss=1.4474, Train Acc=0.4998, Val Loss=1.3284, Val Acc=0.5838\n"
     ]
    },
    {
     "name": "stderr",
     "output_type": "stream",
     "text": [
      "Epoch 6/20 [Train]: 100%|██████████| 516/516 [03:45<00:00,  2.29it/s]\n",
      "Epoch 6/20 [Val]: 100%|██████████| 65/65 [00:10<00:00,  6.04it/s]\n"
     ]
    },
    {
     "name": "stdout",
     "output_type": "stream",
     "text": [
      "Epoch 6/20: Train Loss=1.4015, Train Acc=0.5210, Val Loss=1.1910, Val Acc=0.6332\n"
     ]
    },
    {
     "name": "stderr",
     "output_type": "stream",
     "text": [
      "Epoch 7/20 [Train]: 100%|██████████| 516/516 [03:30<00:00,  2.45it/s]\n",
      "Epoch 7/20 [Val]: 100%|██████████| 65/65 [00:10<00:00,  6.35it/s]\n"
     ]
    },
    {
     "name": "stdout",
     "output_type": "stream",
     "text": [
      "Epoch 7/20: Train Loss=1.3425, Train Acc=0.5394, Val Loss=1.0451, Val Acc=0.6686\n"
     ]
    },
    {
     "name": "stderr",
     "output_type": "stream",
     "text": [
      "Epoch 8/20 [Train]: 100%|██████████| 516/516 [03:46<00:00,  2.27it/s]\n",
      "Epoch 8/20 [Val]: 100%|██████████| 65/65 [00:10<00:00,  6.45it/s]\n"
     ]
    },
    {
     "name": "stdout",
     "output_type": "stream",
     "text": [
      "Epoch 8/20: Train Loss=1.2973, Train Acc=0.5502, Val Loss=1.0050, Val Acc=0.6880\n"
     ]
    },
    {
     "name": "stderr",
     "output_type": "stream",
     "text": [
      "Epoch 9/20 [Train]: 100%|██████████| 516/516 [03:47<00:00,  2.27it/s]\n",
      "Epoch 9/20 [Val]: 100%|██████████| 65/65 [00:11<00:00,  5.90it/s]\n"
     ]
    },
    {
     "name": "stdout",
     "output_type": "stream",
     "text": [
      "Epoch 9/20: Train Loss=1.2651, Train Acc=0.5628, Val Loss=1.1998, Val Acc=0.6192\n"
     ]
    },
    {
     "name": "stderr",
     "output_type": "stream",
     "text": [
      "Epoch 10/20 [Train]: 100%|██████████| 516/516 [03:51<00:00,  2.23it/s]\n",
      "Epoch 10/20 [Val]: 100%|██████████| 65/65 [00:10<00:00,  6.45it/s]\n"
     ]
    },
    {
     "name": "stdout",
     "output_type": "stream",
     "text": [
      "Epoch 10/20: Train Loss=1.2196, Train Acc=0.5789, Val Loss=0.9485, Val Acc=0.7035\n"
     ]
    },
    {
     "name": "stderr",
     "output_type": "stream",
     "text": [
      "Epoch 11/20 [Train]: 100%|██████████| 516/516 [03:48<00:00,  2.26it/s]\n",
      "Epoch 11/20 [Val]: 100%|██████████| 65/65 [00:09<00:00,  6.57it/s]\n"
     ]
    },
    {
     "name": "stdout",
     "output_type": "stream",
     "text": [
      "Epoch 11/20: Train Loss=1.1868, Train Acc=0.5882, Val Loss=0.7869, Val Acc=0.7631\n"
     ]
    },
    {
     "name": "stderr",
     "output_type": "stream",
     "text": [
      "Epoch 12/20 [Train]: 100%|██████████| 516/516 [03:29<00:00,  2.47it/s]\n",
      "Epoch 12/20 [Val]: 100%|██████████| 65/65 [00:10<00:00,  6.09it/s]\n"
     ]
    },
    {
     "name": "stdout",
     "output_type": "stream",
     "text": [
      "Epoch 12/20: Train Loss=1.1608, Train Acc=0.5973, Val Loss=0.8750, Val Acc=0.7369\n"
     ]
    },
    {
     "name": "stderr",
     "output_type": "stream",
     "text": [
      "Epoch 13/20 [Train]: 100%|██████████| 516/516 [03:59<00:00,  2.15it/s]\n",
      "Epoch 13/20 [Val]: 100%|██████████| 65/65 [00:10<00:00,  5.93it/s]\n"
     ]
    },
    {
     "name": "stdout",
     "output_type": "stream",
     "text": [
      "Epoch 13/20: Train Loss=1.1360, Train Acc=0.6048, Val Loss=0.8170, Val Acc=0.7485\n"
     ]
    },
    {
     "name": "stderr",
     "output_type": "stream",
     "text": [
      "Epoch 14/20 [Train]: 100%|██████████| 516/516 [03:50<00:00,  2.24it/s]\n",
      "Epoch 14/20 [Val]: 100%|██████████| 65/65 [00:10<00:00,  6.29it/s]\n"
     ]
    },
    {
     "name": "stdout",
     "output_type": "stream",
     "text": [
      "Epoch 14/20: Train Loss=1.1077, Train Acc=0.6162, Val Loss=0.8265, Val Acc=0.7495\n"
     ]
    },
    {
     "name": "stderr",
     "output_type": "stream",
     "text": [
      "Epoch 15/20 [Train]: 100%|██████████| 516/516 [03:43<00:00,  2.31it/s]\n",
      "Epoch 15/20 [Val]: 100%|██████████| 65/65 [00:10<00:00,  6.50it/s]\n"
     ]
    },
    {
     "name": "stdout",
     "output_type": "stream",
     "text": [
      "Epoch 15/20: Train Loss=1.1035, Train Acc=0.6133, Val Loss=0.8382, Val Acc=0.7359\n"
     ]
    },
    {
     "name": "stderr",
     "output_type": "stream",
     "text": [
      "Epoch 16/20 [Train]: 100%|██████████| 516/516 [03:54<00:00,  2.20it/s]\n",
      "Epoch 16/20 [Val]: 100%|██████████| 65/65 [00:10<00:00,  6.24it/s]\n"
     ]
    },
    {
     "name": "stdout",
     "output_type": "stream",
     "text": [
      "Epoch 16/20: Train Loss=1.0186, Train Acc=0.6406, Val Loss=0.6221, Val Acc=0.8106\n"
     ]
    },
    {
     "name": "stderr",
     "output_type": "stream",
     "text": [
      "Epoch 17/20 [Train]: 100%|██████████| 516/516 [03:28<00:00,  2.47it/s]\n",
      "Epoch 17/20 [Val]: 100%|██████████| 65/65 [00:08<00:00,  7.33it/s]\n"
     ]
    },
    {
     "name": "stdout",
     "output_type": "stream",
     "text": [
      "Epoch 17/20: Train Loss=0.9911, Train Acc=0.6542, Val Loss=0.6471, Val Acc=0.7975\n"
     ]
    },
    {
     "name": "stderr",
     "output_type": "stream",
     "text": [
      "Epoch 18/20 [Train]: 100%|██████████| 516/516 [02:47<00:00,  3.08it/s]\n",
      "Epoch 18/20 [Val]: 100%|██████████| 65/65 [00:06<00:00,  9.99it/s]\n"
     ]
    },
    {
     "name": "stdout",
     "output_type": "stream",
     "text": [
      "Epoch 18/20: Train Loss=0.9890, Train Acc=0.6541, Val Loss=0.7941, Val Acc=0.7766\n"
     ]
    },
    {
     "name": "stderr",
     "output_type": "stream",
     "text": [
      "Epoch 19/20 [Train]: 100%|██████████| 516/516 [02:17<00:00,  3.74it/s]\n",
      "Epoch 19/20 [Val]: 100%|██████████| 65/65 [00:05<00:00, 10.84it/s]\n"
     ]
    },
    {
     "name": "stdout",
     "output_type": "stream",
     "text": [
      "Epoch 19/20: Train Loss=0.9857, Train Acc=0.6537, Val Loss=0.6029, Val Acc=0.8096\n"
     ]
    },
    {
     "name": "stderr",
     "output_type": "stream",
     "text": [
      "Epoch 20/20 [Train]: 100%|██████████| 516/516 [01:50<00:00,  4.66it/s]\n",
      "Epoch 20/20 [Val]: 100%|██████████| 65/65 [00:05<00:00, 11.35it/s]"
     ]
    },
    {
     "name": "stdout",
     "output_type": "stream",
     "text": [
      "Epoch 20/20: Train Loss=0.9692, Train Acc=0.6566, Val Loss=0.7132, Val Acc=0.7926\n"
     ]
    },
    {
     "name": "stderr",
     "output_type": "stream",
     "text": [
      "\n"
     ]
    }
   ],
   "source": [
    "history= train_model(model, train_loader, val_loader, criterion, optimizer, scheduler, epochs=20)"
   ]
  },
  {
   "cell_type": "code",
   "execution_count": null,
   "id": "99540a53",
   "metadata": {},
   "outputs": [
    {
     "name": "stderr",
     "output_type": "stream",
     "text": [
      "C:\\Users\\warma\\AppData\\Local\\Temp\\ipykernel_11404\\711082015.py:2: FutureWarning: You are using `torch.load` with `weights_only=False` (the current default value), which uses the default pickle module implicitly. It is possible to construct malicious pickle data which will execute arbitrary code during unpickling (See https://github.com/pytorch/pytorch/blob/main/SECURITY.md#untrusted-models for more details). In a future release, the default value for `weights_only` will be flipped to `True`. This limits the functions that could be executed during unpickling. Arbitrary objects will no longer be allowed to be loaded via this mode unless they are explicitly allowlisted by the user via `torch.serialization.add_safe_globals`. We recommend you start setting `weights_only=True` for any use case where you don't have full control of the loaded file. Please open an issue on GitHub for any issues related to this experimental feature.\n",
      "  model.load_state_dict(torch.load(\"best_LeafNet.pth\"))\n"
     ]
    },
    {
     "name": "stdout",
     "output_type": "stream",
     "text": [
      "Test Accuracy: 0.8028\n"
     ]
    }
   ],
   "source": [
    "\n",
    "model.load_state_dict(torch.load(\"best_LeafNet.pth\"))\n",
    "model.eval()\n",
    "\n",
    "\n",
    "correct, total = 0, 0\n",
    "with torch.no_grad():\n",
    "    for xb, yb in test_loader:\n",
    "        xb, yb = xb.to(device), yb.to(device)\n",
    "        outputs = model(xb)\n",
    "        _, preds = torch.max(outputs, 1)\n",
    "        correct += (preds == yb).sum().item()\n",
    "        total += yb.size(0)\n",
    "test_acc = correct / total\n",
    "print(f\"Test Accuracy: {test_acc:.4f}\")"
   ]
  },
  {
   "cell_type": "code",
   "execution_count": null,
   "id": "005ae817",
   "metadata": {},
   "outputs": [],
   "source": []
  }
 ],
 "metadata": {
  "kernelspec": {
   "display_name": "Python 3",
   "language": "python",
   "name": "python3"
  },
  "language_info": {
   "codemirror_mode": {
    "name": "ipython",
    "version": 3
   },
   "file_extension": ".py",
   "mimetype": "text/x-python",
   "name": "python",
   "nbconvert_exporter": "python",
   "pygments_lexer": "ipython3",
   "version": "3.12.10"
  }
 },
 "nbformat": 4,
 "nbformat_minor": 5
}
